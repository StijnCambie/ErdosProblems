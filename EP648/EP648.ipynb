{
 "cells": [
  {
   "cell_type": "code",
   "execution_count": 35,
   "metadata": {},
   "outputs": [],
   "source": [
    "#standard code to compute the longest increasing sequence \n",
    "#(source: https://www.geeksforgeeks.org/longest-monotonically-increasing-subsequence-size-n-log-n/)\n",
    "\n",
    "def lengthOfLIS(arr):\n",
    "    n = len(arr)\n",
    "    ans = []\n",
    "    ans.append(arr[0])\n",
    "\n",
    "    for i in range(1, n):\n",
    "        if arr[i] > ans[-1]:\n",
    "            ans.append(arr[i])\n",
    "        else:\n",
    "            low = 0\n",
    "            high = len(ans) - 1\n",
    "            while low < high:\n",
    "                mid = low + (high - low) // 2\n",
    "                if ans[mid] < arr[i]:\n",
    "                    low = mid + 1\n",
    "                else:\n",
    "                    high = mid\n",
    "            ans[low] = arr[i]\n",
    "    return len(ans)\n",
    "\n",
    "#compute g(n): this is nothing more than the longest increasing subsequence \n",
    "#of the largest primes of the numbers from n-1 up to 2\n",
    "def g(n):\n",
    "    arr=[]\n",
    "    for i in range(n-1,1,-1):\n",
    "        arr.append(max(factor(i))[0])\n",
    "    return(lengthOfLIS(arr))"
   ]
  },
  {
   "cell_type": "code",
   "execution_count": 36,
   "metadata": {},
   "outputs": [],
   "source": [
    "#Computes the optimal choice of increasing numbers with chosen primes larger than sqrt(n)\n",
    "def MaxConstr(n,k):\n",
    "    I=prime_range(floor(sqrt(n)),k)[-1:0:-1];\n",
    "    \n",
    "    X=[I[0]];\n",
    "    for i in I[1:]:\n",
    "        X.append(ceil(X[-1]/i)*i)\n",
    "    \n",
    "    if max(X)< n:\n",
    "        return True;\n",
    "    else:\n",
    "        return False;\n",
    "    \n",
    "#Computes a lower bound on g(n)\n",
    "#with a binary search, it checks for an optimal range and then outputs the number of elements in the range\n",
    "def g_lower(n):\n",
    "    m=ceil(sqrt(n))+2;\n",
    "    M=n;\n",
    "    for k in range(0,ceil(log(M-m,2))):\n",
    "        k=floor((M+m)/2)\n",
    "        if MaxConstr(n,k):\n",
    "            m=k\n",
    "        else:\n",
    "            M=k\n",
    "    I=prime_range(floor(sqrt(n)),m)[-1:0:-1]\n",
    "    return(len(I))\n",
    "\n"
   ]
  },
  {
   "cell_type": "code",
   "execution_count": 39,
   "metadata": {},
   "outputs": [],
   "source": [
    "#We compute the results for n being a power of 10, from 10 up to 10^7.\n",
    "Outcome={}\n",
    "for e in range(1,8):\n",
    "    n=10**e;\n",
    "    Outcome[n]=(g_lower(n),g(n));"
   ]
  },
  {
   "cell_type": "code",
   "execution_count": 41,
   "metadata": {},
   "outputs": [
    {
     "name": "stdout",
     "output_type": "stream",
     "text": [
      "(1, 3, 2)\n",
      "(6, 8, 5)\n",
      "(19, 26, 12)\n",
      "(56, 75, 33)\n",
      "(166, 219, 93)\n",
      "(501, 645, 269)\n",
      "(1495, 1891, 788)\n"
     ]
    }
   ],
   "source": [
    "#We output the outcome with the lower bound (easy construction), exact bound, and (n/log(n))^{1/2} (rounded to the nearest integer)\n",
    "for e in range(1,8):\n",
    "    n=10**e;\n",
    "    (a,b)=Outcome[n];\n",
    "    print((a,b,round(sqrt(n/log(n)))))"
   ]
  },
  {
   "cell_type": "code",
   "execution_count": 43,
   "metadata": {},
   "outputs": [
    {
     "name": "stdout",
     "output_type": "stream",
     "text": [
      "0.48 1.44\n",
      "1.288 1.717\n",
      "1.579 2.161\n",
      "1.7 2.276\n",
      "1.781 2.35\n",
      "1.862 2.397\n",
      "1.898 2.401\n"
     ]
    }
   ],
   "source": [
    "#we compute the ratios, where we are interested in g(n)/(n/log(n))^{1/2}\n",
    "#g_lower(n)/(n/log(n))^{1/2} is larger than 2 for n=10**15\n",
    "for e in range(1,8):\n",
    "    n=10**e;\n",
    "    (a,b)=Outcome[n];\n",
    "    v=sqrt(n/log(n));\n",
    "    print(round(a/v,3),round(b/v,3))"
   ]
  },
  {
   "cell_type": "code",
   "execution_count": null,
   "metadata": {},
   "outputs": [],
   "source": []
  },
  {
   "cell_type": "code",
   "execution_count": null,
   "metadata": {},
   "outputs": [],
   "source": []
  },
  {
   "cell_type": "code",
   "execution_count": null,
   "metadata": {},
   "outputs": [],
   "source": []
  },
  {
   "cell_type": "code",
   "execution_count": null,
   "metadata": {},
   "outputs": [],
   "source": []
  },
  {
   "cell_type": "code",
   "execution_count": null,
   "metadata": {},
   "outputs": [],
   "source": []
  }
 ],
 "metadata": {
  "kernelspec": {
   "display_name": "SageMath 9.3",
   "language": "sage",
   "name": "sagemath"
  },
  "language_info": {
   "codemirror_mode": {
    "name": "ipython",
    "version": 3
   },
   "file_extension": ".py",
   "mimetype": "text/x-python",
   "name": "python",
   "nbconvert_exporter": "python",
   "pygments_lexer": "ipython3",
   "version": "3.7.10"
  }
 },
 "nbformat": 4,
 "nbformat_minor": 4
}
