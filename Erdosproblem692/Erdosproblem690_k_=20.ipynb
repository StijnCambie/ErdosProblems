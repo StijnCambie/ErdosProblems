{
 "cells": [
  {
   "cell_type": "code",
   "execution_count": 1,
   "metadata": {},
   "outputs": [],
   "source": [
    "#We define a function checking if a sequence is unimoda\n",
    "\n",
    "def Unimodal(a):\n",
    "    M=max(a);\n",
    "    for i in range(1,len(a)-1):\n",
    "        if max(a[:i])<M and a[i]<a[i-1]:\n",
    "            return False\n",
    "        if max(a[:i])==M and a[i]<a[i+1]:\n",
    "            return False\n",
    "    return True\n",
    "\n",
    "#A functino that returns the number of local maxima in a sequence, and the list of local maxima\n",
    "\n",
    "def NrOfLocalM(a):\n",
    "    counter=0;\n",
    "    I=[]\n",
    "    for i in range(1,len(a)-1):\n",
    "        if a[i]>a[i-1] and a[i]>a[i+1]:\n",
    "            counter+=1\n",
    "            I.append(i)\n",
    "    return(counter,I)\n",
    "        \n",
    "#P is the build-in list of primes\n",
    "\n",
    "P=Primes()"
   ]
  },
  {
   "cell_type": "code",
   "execution_count": 6,
   "metadata": {},
   "outputs": [],
   "source": [
    "#we compute delta_r(i) for 0\\le r \\le 20 and i \\le X\n",
    "X=500\n",
    "K=20\n",
    "\n",
    "d={}\n",
    "d[0]={0:1/2}\n",
    "d[1]={0:1/2}\n",
    "for k in range(2,K+1):\n",
    "    d[k]={0:0}\n",
    "\n",
    "for m in range(1,X+1):\n",
    "    p=P[m];\n",
    "    d[0][m]=(p-1)/p*d[0][m-1];\n",
    "    for k in range(1,K+1):\n",
    "        d[k][m]=1/p*d[k-1][m-1]+(p-1)/p*d[k][m-1];"
   ]
  },
  {
   "cell_type": "code",
   "execution_count": 7,
   "metadata": {},
   "outputs": [
    {
     "name": "stdout",
     "output_type": "stream",
     "text": [
      "1:True\n",
      "2:True\n",
      "3:True\n",
      "4:False\n",
      "5:False\n",
      "6:False\n",
      "7:False\n",
      "8:False\n",
      "9:False\n",
      "10:False\n",
      "11:False\n",
      "12:False\n",
      "13:False\n",
      "14:False\n",
      "15:False\n",
      "16:False\n",
      "17:False\n",
      "18:False\n",
      "19:False\n",
      "20:False\n"
     ]
    }
   ],
   "source": [
    "#we compute d_k(p_i)=delta_(k-1)(i-1)/p_i for 0\\le i \\le X and check unimodality for this subsequence\n",
    "for k in range(1,K+1):\n",
    "    L=[]\n",
    "    for m in range(0,X+1):\n",
    "        L.append(d[k-1][m]*1/P[m+1])\n",
    "    #     print(round(d2[m]*1/P[m+1],5))\n",
    "    print(str(k)+\":\"+str(Unimodal(L)))"
   ]
  },
  {
   "cell_type": "code",
   "execution_count": 12,
   "metadata": {},
   "outputs": [
    {
     "name": "stdout",
     "output_type": "stream",
     "text": [
      "4:(2, 4, 6)\n",
      "5:(5, 7, 19)\n",
      "6:(24, 9, 112)\n",
      "7:(91, 19, 497)\n",
      "8:(93, 22, 497)\n",
      "9:(105, 28, 497)\n",
      "10:(113, 28, 497)\n",
      "11:(108, 28, 497)\n",
      "12:(99, 60, 497)\n",
      "13:(92, 60, 497)\n",
      "14:(81, 97, 497)\n",
      "15:(73, 97, 497)\n",
      "16:(57, 97, 497)\n",
      "17:(40, 152, 485)\n",
      "18:(36, 152, 485)\n",
      "19:(29, 152, 485)\n",
      "20:(21, 187, 485)\n"
     ]
    }
   ],
   "source": [
    "#we print the number of local maxima found in the interval [0,X], and the smallest and largest local maxima to get an idea\n",
    "\n",
    "for k in range(4,K+1):\n",
    "    L=[]\n",
    "    for m in range(0,X+1):\n",
    "        L.append(d[k-1][m]*1/P[m+1])\n",
    "    (x,y)=NrOfLocalM(L)\n",
    "    print(str(k)+\":\"+str((x,min(y),max(y))));"
   ]
  },
  {
   "cell_type": "code",
   "execution_count": 14,
   "metadata": {},
   "outputs": [
    {
     "data": {
      "text/plain": [
       "(1/2, 1/3)"
      ]
     },
     "execution_count": 14,
     "metadata": {},
     "output_type": "execute_result"
    }
   ],
   "source": [
    "#we print the first few terms of delta_0, delta_1 and delta_2 to conclude that those are decreasing from a small number onwards\n",
    "\n",
    "(d[0][0],d[0][1])"
   ]
  },
  {
   "cell_type": "code",
   "execution_count": 15,
   "metadata": {},
   "outputs": [
    {
     "data": {
      "text/plain": [
       "(1/2, 1/2, 7/15)"
      ]
     },
     "execution_count": 15,
     "metadata": {},
     "output_type": "execute_result"
    }
   ],
   "source": [
    "\n",
    "(d[1][0],d[1][1],d[1][2])"
   ]
  },
  {
   "cell_type": "code",
   "execution_count": 17,
   "metadata": {},
   "outputs": [
    {
     "data": {
      "text/plain": [
       "[0.0,\n",
       " 0.16667,\n",
       " 0.23333,\n",
       " 0.26667,\n",
       " 0.28225,\n",
       " 0.29277,\n",
       " 0.29925,\n",
       " 0.30404,\n",
       " 0.30732,\n",
       " 0.30949,\n",
       " 0.31122,\n",
       " 0.31244,\n",
       " 0.31339,\n",
       " 0.31415,\n",
       " 0.31473,\n",
       " 0.31515,\n",
       " 0.31546,\n",
       " 0.3157,\n",
       " 0.31587,\n",
       " 0.31598,\n",
       " 0.31605,\n",
       " 0.31608,\n",
       " 0.31608,\n",
       " 0.31606,\n",
       " 0.31601]"
      ]
     },
     "execution_count": 17,
     "metadata": {},
     "output_type": "execute_result"
    }
   ],
   "source": [
    "seq=[]\n",
    "for i in range(0,25):\n",
    "    seq.append(round(d[2][i],5))\n",
    "seq"
   ]
  },
  {
   "cell_type": "code",
   "execution_count": null,
   "metadata": {},
   "outputs": [],
   "source": []
  }
 ],
 "metadata": {
  "kernelspec": {
   "display_name": "SageMath 9.3",
   "language": "sage",
   "name": "sagemath"
  },
  "language_info": {
   "codemirror_mode": {
    "name": "ipython",
    "version": 3
   },
   "file_extension": ".py",
   "mimetype": "text/x-python",
   "name": "python",
   "nbconvert_exporter": "python",
   "pygments_lexer": "ipython3",
   "version": "3.7.10"
  }
 },
 "nbformat": 4,
 "nbformat_minor": 4
}
