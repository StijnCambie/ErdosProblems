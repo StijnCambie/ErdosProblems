{
 "cells": [
  {
   "cell_type": "code",
   "execution_count": 2,
   "metadata": {},
   "outputs": [],
   "source": [
    "#This file contains a recursive program to compute delta_1(3,m) for large m\n",
    "\n",
    "#L[m]=lcm(4,...,m)\n",
    "#d1[m]: number of values modulo L[m] with exactly one divisor in (4,...,m)\n",
    "#d0[m]: number of values modulo L[m] with no divisor in (3,...,m), which equals H_3 phi(L) for m \\ge 9\n",
    "#phi[m]:=phi(L)\n",
    "\n",
    "#Initialization (to not bother with the small powers of 2 and 3)\n",
    "n=3;\n",
    "L={4: 4,\n",
    " 5: 20,\n",
    " 6: 60,\n",
    " 7: 420,\n",
    " 8: 840,\n",
    " 9: 2520,\n",
    " 10: 2520,\n",
    " 11: 27720,\n",
    " 13: 360360,\n",
    " 14: 360360,\n",
    " 15: 360360,\n",
    " 17: 6126120,\n",
    " 19: 116396280,\n",
    " 21: 116396280,\n",
    " 22: 116396280,\n",
    " 23: 2677114440,\n",
    " 25: 13385572200,\n",
    " 26: 13385572200,\n",
    " 27: 40156716600}\n",
    "d1={4: 1,\n",
    " 5: 7,\n",
    " 6: 20,\n",
    " 7: 152,\n",
    " 8: 256,\n",
    " 9: 776,\n",
    " 10: 704,\n",
    " 11: 8096,\n",
    " 13: 107712,\n",
    " 14: 101952,\n",
    " 15: 96192,\n",
    " 17: 1665792,\n",
    " 19: 32011776,\n",
    " 21: 30905856,\n",
    " 22: 29910528,\n",
    " 23: 694526976,\n",
    " 25: 3363148800,\n",
    " 26: 3271910400,\n",
    " 27: 9450777600}\n",
    "d0={4: 3,\n",
    " 5: 12,\n",
    " 6: 32,\n",
    " 9: 1056,\n",
    " 10: 1056,\n",
    " 11: 10560,\n",
    " 12: 10560,\n",
    " 13: 126720,\n",
    " 14: 126720,\n",
    " 15: 126720,\n",
    " 16: 126720,\n",
    " 17: 2027520,\n",
    " 18: 2027520,\n",
    " 19: 36495360,\n",
    " 20: 36495360,\n",
    " 21: 36495360,\n",
    " 22: 36495360,\n",
    " 23: 802897920,\n",
    " 24: 802897920,\n",
    " 25: 4014489600,\n",
    " 26: 4014489600,\n",
    " 27: 12043468800}\n",
    "phi={}\n",
    "for r in range(9,28):\n",
    "    phi[r]=6/11*d0[r]"
   ]
  },
  {
   "cell_type": "code",
   "execution_count": 11,
   "metadata": {},
   "outputs": [],
   "source": [
    "#recursive program (delta_1 only changes if the additional term is of the form p,2p,3p or p^2)\n",
    "n=3;\n",
    "for k in range(28-3,1000):\n",
    "    if ((n+k)%2==0 and is_prime(floor((n+k)/2))):\n",
    "        L[n+k]=L[n+k-1];\n",
    "        d1[n+k]=d1[n+k-1]-phi[n+k-1]/((n+k)-2);\n",
    "        d0[n+k]=d0[n+k-1];\n",
    "        phi[n+k]=phi[n+k-1];\n",
    "    elif ((n+k)%3==0 and is_prime(floor((n+k)/3))):\n",
    "        L[n+k]=L[n+k-1];\n",
    "        d1[n+k]=d1[n+k-1]-phi[n+k-1]/((n+k)-3);\n",
    "        d0[n+k]=d0[n+k-1];\n",
    "        phi[n+k]=phi[n+k-1];\n",
    "    elif is_prime(n+k):\n",
    "        L[n+k]=L[n+k-1]*(n+k);\n",
    "        d1[n+k]=d1[n+k-1]*(n+k-1)+d0[n+k-1]\n",
    "        d0[n+k]=d0[n+k-1]*(n+k-1)\n",
    "        phi[n+k]=phi[n+k-1]*(n+k-1)\n",
    "    elif is_square(n+k) and is_prime(sqrt(n+k)):\n",
    "        L[n+k]=L[n+k-1]*sqrt(n+k);\n",
    "        d1[n+k]=d1[n+k-1]*sqrt(n+k)-phi[n+k-1]/((sqrt(n+k)-1))\n",
    "        d0[n+k]=d0[n+k-1]*sqrt(n+k);    \n",
    "        phi[n+k]=phi[n+k-1]*sqrt(n+k);  \n",
    "    else:\n",
    "        L[n+k]=L[n+k-1];\n",
    "        d1[n+k]=d1[n+k-1]\n",
    "        d0[n+k]=d0[n+k-1]\n",
    "        phi[n+k]=phi[n+k-1]"
   ]
  },
  {
   "cell_type": "code",
   "execution_count": 12,
   "metadata": {},
   "outputs": [
    {
     "name": "stdout",
     "output_type": "stream",
     "text": [
      "(3,30):0.237573725\n",
      "(3,32):0.2392510212\n",
      "(3,34):0.2341559495\n",
      "(3,35):0.2293793198\n",
      "(3,38):0.230753634\n",
      "(3,39):0.2266224947\n",
      "(3,40):0.2224913555\n",
      "(3,42):0.2237148636\n",
      "(3,44):0.2246983566\n",
      "(3,47):0.2214774612\n",
      "(3,48):0.2222932364\n",
      "(3,50):0.2189907581\n",
      "(3,52):0.2161010895\n",
      "(3,54):0.2168216507\n"
     ]
    }
   ],
   "source": [
    "#print some values delta_1(4,m)\n",
    "for k in range(27,54):\n",
    "    if (is_prime_power(n+k-1) and n+k-1 not in [16,32]) or ((n+k)%2==1 and is_prime(floor((n+k-1)/2))) or ((n+k)%3==1 and is_prime(floor((n+k-1)/3))):\n",
    "        print(\"(\"+str(n)+\",\"+str(n+k)+\"):\"+str(round(d1[n+k-1]/L[n+k-1],10)))"
   ]
  },
  {
   "cell_type": "code",
   "execution_count": 13,
   "metadata": {},
   "outputs": [
    {
     "name": "stdout",
     "output_type": "stream",
     "text": [
      "1.01139\n",
      "1.0198\n",
      "1.02551\n",
      "1.01419\n",
      "1.00787\n",
      "1.0059\n",
      "1.00012\n",
      "0.99675\n",
      "0.99343\n",
      "0.98841\n"
     ]
    }
   ],
   "source": [
    "#one can check the ratio d0/d1 \n",
    "for n in range(200,300,10):\n",
    "    print(round(d0[n]/d1[n],5))"
   ]
  },
  {
   "cell_type": "code",
   "execution_count": null,
   "metadata": {},
   "outputs": [],
   "source": []
  },
  {
   "cell_type": "code",
   "execution_count": null,
   "metadata": {},
   "outputs": [],
   "source": []
  },
  {
   "cell_type": "code",
   "execution_count": null,
   "metadata": {},
   "outputs": [],
   "source": []
  },
  {
   "cell_type": "code",
   "execution_count": null,
   "metadata": {},
   "outputs": [],
   "source": []
  },
  {
   "cell_type": "code",
   "execution_count": null,
   "metadata": {},
   "outputs": [],
   "source": []
  },
  {
   "cell_type": "code",
   "execution_count": null,
   "metadata": {},
   "outputs": [],
   "source": []
  },
  {
   "cell_type": "code",
   "execution_count": null,
   "metadata": {},
   "outputs": [],
   "source": []
  },
  {
   "cell_type": "code",
   "execution_count": null,
   "metadata": {},
   "outputs": [],
   "source": []
  },
  {
   "cell_type": "code",
   "execution_count": null,
   "metadata": {},
   "outputs": [],
   "source": []
  }
 ],
 "metadata": {
  "kernelspec": {
   "display_name": "SageMath 9.3",
   "language": "sage",
   "name": "sagemath"
  },
  "language_info": {
   "codemirror_mode": {
    "name": "ipython",
    "version": 3
   },
   "file_extension": ".py",
   "mimetype": "text/x-python",
   "name": "python",
   "nbconvert_exporter": "python",
   "pygments_lexer": "ipython3",
   "version": "3.7.10"
  }
 },
 "nbformat": 4,
 "nbformat_minor": 4
}
