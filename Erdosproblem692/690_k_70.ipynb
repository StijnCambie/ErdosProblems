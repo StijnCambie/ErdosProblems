{
 "cells": [
  {
   "cell_type": "code",
   "execution_count": 2,
   "metadata": {},
   "outputs": [],
   "source": [
    "#We define a function checking if a sequence is unimodal\n",
    "\n",
    "def Unimodal(a):\n",
    "    M=max(a);\n",
    "    for i in range(1,len(a)-1):\n",
    "        if max(a[:i])<M and a[i]<a[i-1]:\n",
    "            return False\n",
    "        if max(a[:i])==M and a[i]<a[i+1]:\n",
    "            return False\n",
    "    return True\n",
    "\n",
    "#A function that returns the number of local maxima in a sequence, and the list of local maxima\n",
    "\n",
    "def NrOfLocalM(a):\n",
    "    counter=0;\n",
    "    I=[]\n",
    "    for i in range(1,len(a)-1):\n",
    "        if a[i]>a[i-1] and a[i]>a[i+1]:\n",
    "            counter+=1\n",
    "            I.append(i)\n",
    "    return(counter,I)\n",
    "        \n",
    "#P is the build-in list of primes\n",
    "\n",
    "P=Primes()\n",
    "\n",
    "#we compute delta_r(i) for 0\\le r \\le 20 and i \\le 2*X\n",
    "X=5000\n",
    "K=70\n",
    "\n",
    "d={}\n",
    "d[0]={0:1/2}\n",
    "d[1]={0:1/2}\n",
    "for k in range(2,K+1):\n",
    "    d[k]={0:0}\n",
    "\n",
    "for m in range(1,2*X+1):\n",
    "    p=P[m];\n",
    "    d[0][m]=(p-1)/p*d[0][m-1];\n",
    "    for k in range(1,K+1):\n",
    "        d[k][m]=1/p*d[k-1][m-1]+(p-1)/p*d[k][m-1];"
   ]
  },
  {
   "cell_type": "code",
   "execution_count": null,
   "metadata": {},
   "outputs": [],
   "source": []
  },
  {
   "cell_type": "code",
   "execution_count": 5,
   "metadata": {},
   "outputs": [
    {
     "name": "stdout",
     "output_type": "stream",
     "text": [
      "4:(2, 4, 6)\n",
      "5:(5, 7, 19)\n",
      "6:(24, 9, 112)\n",
      "7:(192, 19, 1166)\n",
      "8:(1267, 22, 9991)\n",
      "9:(1279, 28, 9991)\n",
      "10:(1415, 28, 9991)\n",
      "11:(1989, 28, 9995)\n",
      "12:(1997, 60, 9995)\n",
      "13:(2136, 60, 9995)\n",
      "14:(2545, 97, 9998)\n",
      "15:(2534, 97, 9998)\n",
      "16:(2536, 97, 9998)\n",
      "17:(2542, 152, 9998)\n",
      "18:(2474, 152, 9998)\n",
      "19:(2342, 152, 9998)\n",
      "20:(2246, 187, 9998)\n",
      "21:(2050, 187, 9998)\n",
      "22:(1930, 215, 9998)\n",
      "23:(1821, 215, 9998)\n",
      "24:(1649, 215, 9999)\n",
      "25:(1555, 215, 9999)\n",
      "26:(1383, 215, 9988)\n",
      "27:(1271, 215, 9988)\n",
      "28:(1105, 215, 9988)\n",
      "29:(1015, 588, 9984)\n",
      "30:(908, 588, 9984)\n",
      "31:(832, 648, 9984)\n",
      "32:(737, 736, 9984)\n",
      "33:(647, 1057, 9984)\n",
      "34:(575, 1057, 9984)\n",
      "35:(488, 1057, 9984)\n",
      "36:(445, 1181, 9984)\n",
      "37:(389, 1181, 9969)\n",
      "38:(345, 1530, 9969)\n",
      "39:(291, 1661, 9969)\n",
      "40:(239, 1829, 9969)\n",
      "41:(199, 1829, 9969)\n",
      "42:(181, 1829, 9969)\n",
      "43:(165, 1829, 9969)\n",
      "44:(145, 1829, 9969)\n",
      "45:(125, 1829, 9969)\n",
      "46:(102, 2223, 9969)\n",
      "47:(87, 2223, 9969)\n",
      "48:(77, 2223, 9969)\n",
      "49:(65, 2223, 9969)\n",
      "50:(51, 2223, 9969)\n",
      "51:(44, 2223, 9969)\n",
      "52:(38, 2223, 9909)\n",
      "53:(36, 2808, 9909)\n",
      "54:(33, 3383, 9909)\n",
      "55:(29, 3383, 9909)\n",
      "56:(24, 3383, 9870)\n",
      "57:(21, 3383, 9870)\n",
      "58:(16, 3383, 9870)\n",
      "59:(14, 3383, 9870)\n",
      "60:(13, 3383, 9870)\n",
      "61:(12, 3383, 9832)\n",
      "62:(10, 3383, 9832)\n",
      "63:(5, 3383, 9832)\n",
      "64:(5, 3383, 9832)\n",
      "65:(3, 3383, 9832)\n",
      "66:(3, 3383, 9832)\n",
      "67:(3, 3383, 9832)\n",
      "68:(2, 3383, 8686)\n",
      "69:(2, 3383, 8686)\n"
     ]
    },
    {
     "ename": "ValueError",
     "evalue": "min() arg is an empty sequence",
     "output_type": "error",
     "traceback": [
      "\u001b[0;31m---------------------------------------------------------------------------\u001b[0m",
      "\u001b[0;31mValueError\u001b[0m                                Traceback (most recent call last)",
      "\u001b[0;32m<ipython-input-5-761900b1512a>\u001b[0m in \u001b[0;36m<module>\u001b[0;34m\u001b[0m\n\u001b[1;32m      9\u001b[0m     \u001b[0mG\u001b[0m\u001b[0;34m[\u001b[0m\u001b[0mk\u001b[0m\u001b[0;34m]\u001b[0m\u001b[0;34m=\u001b[0m\u001b[0mL\u001b[0m\u001b[0;34m\u001b[0m\u001b[0;34m\u001b[0m\u001b[0m\n\u001b[1;32m     10\u001b[0m     \u001b[0;34m(\u001b[0m\u001b[0mx\u001b[0m\u001b[0;34m,\u001b[0m\u001b[0my\u001b[0m\u001b[0;34m)\u001b[0m\u001b[0;34m=\u001b[0m\u001b[0mNrOfLocalM\u001b[0m\u001b[0;34m(\u001b[0m\u001b[0mL\u001b[0m\u001b[0;34m)\u001b[0m\u001b[0;34m\u001b[0m\u001b[0;34m\u001b[0m\u001b[0m\n\u001b[0;32m---> 11\u001b[0;31m     \u001b[0mprint\u001b[0m\u001b[0;34m(\u001b[0m\u001b[0mstr\u001b[0m\u001b[0;34m(\u001b[0m\u001b[0mk\u001b[0m\u001b[0;34m)\u001b[0m\u001b[0;34m+\u001b[0m\u001b[0;34m\":\"\u001b[0m\u001b[0;34m+\u001b[0m\u001b[0mstr\u001b[0m\u001b[0;34m(\u001b[0m\u001b[0;34m(\u001b[0m\u001b[0mx\u001b[0m\u001b[0;34m,\u001b[0m\u001b[0mmin\u001b[0m\u001b[0;34m(\u001b[0m\u001b[0my\u001b[0m\u001b[0;34m)\u001b[0m\u001b[0;34m,\u001b[0m\u001b[0mmax\u001b[0m\u001b[0;34m(\u001b[0m\u001b[0my\u001b[0m\u001b[0;34m)\u001b[0m\u001b[0;34m)\u001b[0m\u001b[0;34m)\u001b[0m\u001b[0;34m)\u001b[0m\u001b[0;34m;\u001b[0m\u001b[0;34m\u001b[0m\u001b[0;34m\u001b[0m\u001b[0m\n\u001b[0m",
      "\u001b[0;31mValueError\u001b[0m: min() arg is an empty sequence"
     ]
    }
   ],
   "source": [
    "#we print the number of local maxima found in the interval [0,X], and the smallest and largest local maxima to get an idea\n",
    "\n",
    "G={}\n",
    "\n",
    "for k in range(4,K+1):\n",
    "    L=[]\n",
    "    for m in range(0,2*X+1):\n",
    "        L.append(d[k-1][m]*1/P[m+1])\n",
    "    G[k]=L\n",
    "    (x,y)=NrOfLocalM(L)\n",
    "    print(str(k)+\":\"+str((x,min(y),max(y))));"
   ]
  },
  {
   "cell_type": "code",
   "execution_count": null,
   "metadata": {},
   "outputs": [],
   "source": []
  },
  {
   "cell_type": "code",
   "execution_count": null,
   "metadata": {},
   "outputs": [],
   "source": []
  },
  {
   "cell_type": "code",
   "execution_count": null,
   "metadata": {},
   "outputs": [],
   "source": []
  },
  {
   "cell_type": "code",
   "execution_count": null,
   "metadata": {},
   "outputs": [],
   "source": []
  },
  {
   "cell_type": "code",
   "execution_count": null,
   "metadata": {},
   "outputs": [],
   "source": []
  },
  {
   "cell_type": "code",
   "execution_count": null,
   "metadata": {},
   "outputs": [],
   "source": []
  },
  {
   "cell_type": "code",
   "execution_count": null,
   "metadata": {},
   "outputs": [],
   "source": []
  },
  {
   "cell_type": "code",
   "execution_count": null,
   "metadata": {},
   "outputs": [],
   "source": []
  }
 ],
 "metadata": {
  "kernelspec": {
   "display_name": "SageMath 9.3",
   "language": "sage",
   "name": "sagemath"
  },
  "language_info": {
   "codemirror_mode": {
    "name": "ipython",
    "version": 3
   },
   "file_extension": ".py",
   "mimetype": "text/x-python",
   "name": "python",
   "nbconvert_exporter": "python",
   "pygments_lexer": "ipython3",
   "version": "3.7.10"
  }
 },
 "nbformat": 4,
 "nbformat_minor": 4
}
