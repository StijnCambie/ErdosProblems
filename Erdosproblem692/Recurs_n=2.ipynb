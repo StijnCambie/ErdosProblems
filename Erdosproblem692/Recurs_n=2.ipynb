{
 "cells": [
  {
   "cell_type": "code",
   "execution_count": 2,
   "metadata": {},
   "outputs": [],
   "source": [
    "#computing delta1 with the principle of inclusion-exclusion for check (slow program)\n",
    "def delta1(n,m):\n",
    "    T=0;\n",
    "    v=range(n+1,m);\n",
    "    for k in range(1,len(v)+1):\n",
    "        som=0;\n",
    "        for j in Subsets(v,k):\n",
    "            som+=1/LCM(j);\n",
    "        T+=(-1)^(k+1)*som*k;\n",
    "    return T"
   ]
  },
  {
   "cell_type": "code",
   "execution_count": 3,
   "metadata": {},
   "outputs": [
    {
     "name": "stdout",
     "output_type": "stream",
     "text": [
      "delta_1(2,4):0.3333333333\n",
      "delta_1(2,5):0.4166666667\n",
      "delta_1(2,6):0.4333333333\n",
      "delta_1(2,7):0.3666666667\n",
      "delta_1(2,8):0.3714285714\n",
      "delta_1(2,9):0.3142857143\n",
      "delta_1(2,10):0.2761904762\n",
      "delta_1(2,11):0.2476190476\n",
      "delta_1(2,12):0.2562770563\n",
      "delta_1(2,13):0.2562770563\n",
      "delta_1(2,14):0.2605394605\n",
      "delta_1(2,15):0.2445554446\n",
      "delta_1(2,16):0.2445554446\n",
      "delta_1(2,17):0.2445554446\n",
      "delta_1(2,18):0.2470940824\n",
      "delta_1(2,19):0.2470940824\n",
      "delta_1(2,20):0.2483411326\n",
      "delta_1(2,21):0.2483411326\n",
      "delta_1(2,22):0.2483411326\n"
     ]
    }
   ],
   "source": [
    "#outcomes for delta_1(2,m) for small m\n",
    "n=2;\n",
    "for k in range(2,21):\n",
    "    print(\"delta_1(\"+str(n)+\",\"+str(n+k)+\"):\"+str(round(delta1(n,n+k),10)))"
   ]
  },
  {
   "cell_type": "code",
   "execution_count": 4,
   "metadata": {},
   "outputs": [
    {
     "name": "stdout",
     "output_type": "stream",
     "text": [
      "(2,4):0.3333333333\n",
      "(2,5):0.4166666667\n",
      "(2,6):0.4333333333\n",
      "(2,7):0.3666666667\n",
      "(2,8):0.3714285714\n",
      "(2,9):0.3142857143\n",
      "(2,10):0.2761904762\n",
      "(2,11):0.2476190476\n",
      "(2,12):0.2562770563\n",
      "(2,14):0.2605394605\n",
      "(2,15):0.2445554446\n",
      "(2,18):0.2470940824\n",
      "(2,20):0.2483411326\n",
      "(2,23):0.2397899314\n",
      "(2,24):0.2405180228\n",
      "(2,26):0.2323386131\n",
      "(2,27):0.2255224383\n",
      "(2,30):0.2262072608\n",
      "(2,32):0.22655286\n",
      "(2,35):0.2217762303\n",
      "(2,38):0.2219789869\n",
      "(2,39):0.2178478477\n",
      "(2,42):0.2179754982\n",
      "(2,44):0.2179677077\n",
      "(2,47):0.2147468122\n",
      "(2,48):0.2147006907\n",
      "(2,50):0.2113982123\n",
      "(2,54):0.2113351543\n",
      "(2,59):0.2089050287\n",
      "(2,60):0.2088241053\n",
      "(2,62):0.2086904431\n",
      "(2,63):0.2064973206\n",
      "(2,68):0.2063612565\n",
      "(2,72):0.2061932817\n",
      "(2,74):0.2059946959\n",
      "(2,75):0.2042440428\n",
      "(2,80):0.2040519731\n",
      "(2,83):0.2024963294\n",
      "(2,84):0.202305738\n",
      "(2,87):0.2008420228\n",
      "(2,90):0.2006575969\n",
      "(2,95):0.1993361774\n",
      "(2,98):0.1991611229\n",
      "(2,102):0.1989761211\n"
     ]
    }
   ],
   "source": [
    "#recursive program, using \n",
    "#L[m]=lcm(3,...,m)\n",
    "#d1[m]: number of values modulo L[m] with exactly one divisor in (3,...,m)\n",
    "#d0[m]: number of values modulo L[m] with no divisor in (3,...,m), which equals 3/2 phi(L) for m\\ge 4\n",
    "#prints delta1(2,m)=d1[m-1]/L[m-1] whenever it is different from delta_1(2,m-1)\n",
    "n=2;\n",
    "L={3:3,4:12}\n",
    "d1={3:1,4:5}\n",
    "d0={3:2,4:6}\n",
    "for k in range(1,3):\n",
    "    print(\"(\"+str(n)+\",\"+str(n+k+1)+\"):\"+str(round(d1[n+k]/L[n+k],10)))\n",
    "for k in range(3,100):\n",
    "    if ((n+k)%2==0 and is_prime(floor((n+k)/2))):\n",
    "        L[n+k]=L[n+k-1];\n",
    "        d1[n+k]=d1[n+k-1]-2*d0[n+k-1]/(3*(n+k)-6)\n",
    "        d0[n+k]=d0[n+k-1]\n",
    "        print(\"(\"+str(n)+\",\"+str(n+k+1)+\"):\"+str(round(d1[n+k]/L[n+k],10)))\n",
    "    elif is_prime(floor(n+k)):\n",
    "        L[n+k]=L[n+k-1]*(n+k);\n",
    "        d1[n+k]=d1[n+k-1]*(n+k-1)+d0[n+k-1]\n",
    "        d0[n+k]=d0[n+k-1]*(n+k-1)\n",
    "        print(\"(\"+str(n)+\",\"+str(n+k+1)+\"):\"+str(round(d1[n+k]/L[n+k],10)))\n",
    "    elif n+k==8:\n",
    "        L[n+k]=L[n+k-1]*2;\n",
    "        d0[n+k]=2*d0[n+k-1];\n",
    "        d1[n+k]=d1[n+k-1]*2-d0[n+k-1]/3\n",
    "        print(\"(\"+str(n)+\",\"+str(n+k+1)+\"):\"+str(round(d1[n+k]/L[n+k],10)))\n",
    "    elif is_square(n+k) and is_prime(sqrt(n+k)):\n",
    "        L[n+k]=L[n+k-1]*sqrt(n+k);\n",
    "        d1[n+k]=d1[n+k-1]*sqrt(n+k)-2*d0[n+k-1]/(3*(sqrt(n+k)-1))\n",
    "        d0[n+k]=d0[n+k-1]*sqrt(n+k);    \n",
    "        print(\"(\"+str(n)+\",\"+str(n+k+1)+\"):\"+str(round(d1[n+k]/L[n+k],10)))\n",
    "    else:\n",
    "        L[n+k]=L[n+k-1];\n",
    "        d1[n+k]=d1[n+k-1]\n",
    "        d0[n+k]=d0[n+k-1]\n",
    "    \n"
   ]
  },
  {
   "cell_type": "code",
   "execution_count": 6,
   "metadata": {},
   "outputs": [
    {
     "name": "stdout",
     "output_type": "stream",
     "text": [
      "1.0473617592\n",
      "1.0120297183\n",
      "1.033826875\n",
      "1.0240244308\n",
      "0.998463164\n",
      "0.9752779472\n",
      "0.9690520245\n"
     ]
    }
   ],
   "source": [
    "#One can check d0/d1\n",
    "for k in range(30,50,3):\n",
    "    print(round(d0[k]/d1[k],10))"
   ]
  },
  {
   "cell_type": "code",
   "execution_count": null,
   "metadata": {},
   "outputs": [],
   "source": []
  }
 ],
 "metadata": {
  "kernelspec": {
   "display_name": "SageMath 9.3",
   "language": "sage",
   "name": "sagemath"
  },
  "language_info": {
   "codemirror_mode": {
    "name": "ipython",
    "version": 3
   },
   "file_extension": ".py",
   "mimetype": "text/x-python",
   "name": "python",
   "nbconvert_exporter": "python",
   "pygments_lexer": "ipython3",
   "version": "3.7.10"
  }
 },
 "nbformat": 4,
 "nbformat_minor": 4
}
